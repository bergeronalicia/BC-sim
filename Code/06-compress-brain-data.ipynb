{
 "cells": [
  {
   "cell_type": "code",
   "execution_count": 2,
   "id": "9e4e7e80-bdeb-4a7c-ad92-6b856280b544",
   "metadata": {},
   "outputs": [
    {
     "data": {
      "text/plain": [
       "'/mmfs1/data/bergerar/BC-sim/Code'"
      ]
     },
     "execution_count": 2,
     "metadata": {},
     "output_type": "execute_result"
    }
   ],
   "source": [
    "pwd"
   ]
  },
  {
   "cell_type": "code",
   "execution_count": 3,
   "id": "e0ca89a9-b5c5-4606-ac0a-356dab1e8001",
   "metadata": {},
   "outputs": [],
   "source": [
    "import os\n",
    "import ants\n",
    "import numpy as np\n",
    "from tqdm import tqdm\n",
    "import pandas as pd\n",
    "from numpy import load"
   ]
  },
  {
   "cell_type": "code",
   "execution_count": 5,
   "id": "7b17ca45-7b00-435f-b24d-04b72f997e75",
   "metadata": {},
   "outputs": [
    {
     "name": "stderr",
     "output_type": "stream",
     "text": [
      "100%|██████████| 500/500 [05:35<00:00,  1.49it/s]\n"
     ]
    }
   ],
   "source": [
    "temp_patients = np.array([ants.image_read(f'../BC-sim-bigdata/synth-data-01/ADHD-sub-{s:04d}.nii.gz').numpy() for s in tqdm(range(500))])"
   ]
  },
  {
   "cell_type": "code",
   "execution_count": 6,
   "id": "d8d0f2b4-92ff-4c28-a4ad-5ec9c7229804",
   "metadata": {},
   "outputs": [
    {
     "data": {
      "text/plain": [
       "(500, 64, 64, 64)"
      ]
     },
     "execution_count": 6,
     "metadata": {},
     "output_type": "execute_result"
    }
   ],
   "source": [
    "temp_patients.shape"
   ]
  },
  {
   "cell_type": "code",
   "execution_count": 7,
   "id": "ce937e28-8533-46c8-a503-e7d0aac15efc",
   "metadata": {},
   "outputs": [
    {
     "name": "stderr",
     "output_type": "stream",
     "text": [
      "100%|██████████| 500/500 [04:16<00:00,  1.95it/s]\n"
     ]
    }
   ],
   "source": [
    "temp_controls = np.array([ants.image_read(f'../BC-sim-bigdata/synth-data-01/TD-sub-{s:04d}.nii.gz').numpy() for s in tqdm(range(500))])"
   ]
  },
  {
   "cell_type": "code",
   "execution_count": 8,
   "id": "945d85c8-78a4-46b5-9b1b-0beb00528cc6",
   "metadata": {},
   "outputs": [
    {
     "data": {
      "text/plain": [
       "(500, 64, 64, 64)"
      ]
     },
     "execution_count": 8,
     "metadata": {},
     "output_type": "execute_result"
    }
   ],
   "source": [
    "temp_controls.shape"
   ]
  },
  {
   "cell_type": "code",
   "execution_count": 9,
   "id": "0fa8e114-dd62-429d-8432-4063d8d990e1",
   "metadata": {},
   "outputs": [],
   "source": [
    "data = np.concatenate((temp_patients,temp_controls),axis=0)"
   ]
  },
  {
   "cell_type": "code",
   "execution_count": 10,
   "id": "ab8b0c59-19f8-4704-aef7-814e32935b5f",
   "metadata": {},
   "outputs": [
    {
     "data": {
      "text/plain": [
       "(1000, 64, 64, 64)"
      ]
     },
     "execution_count": 10,
     "metadata": {},
     "output_type": "execute_result"
    }
   ],
   "source": [
    "data.shape"
   ]
  },
  {
   "cell_type": "code",
   "execution_count": 4,
   "id": "4607b1b5-600a-460b-b94b-faaa06cc042b",
   "metadata": {},
   "outputs": [
    {
     "data": {
      "text/html": [
       "<div>\n",
       "<style scoped>\n",
       "    .dataframe tbody tr th:only-of-type {\n",
       "        vertical-align: middle;\n",
       "    }\n",
       "\n",
       "    .dataframe tbody tr th {\n",
       "        vertical-align: top;\n",
       "    }\n",
       "\n",
       "    .dataframe thead th {\n",
       "        text-align: right;\n",
       "    }\n",
       "</style>\n",
       "<table border=\"1\" class=\"dataframe\">\n",
       "  <thead>\n",
       "    <tr style=\"text-align: right;\">\n",
       "      <th></th>\n",
       "      <th>Unnamed: 0</th>\n",
       "      <th>Index</th>\n",
       "      <th>Sub</th>\n",
       "      <th>Sphere 1</th>\n",
       "      <th>Sphere 2</th>\n",
       "      <th>DX</th>\n",
       "      <th>S Deformation</th>\n",
       "      <th>Z Deformation</th>\n",
       "    </tr>\n",
       "  </thead>\n",
       "  <tbody>\n",
       "    <tr>\n",
       "      <th>0</th>\n",
       "      <td>0</td>\n",
       "      <td>0</td>\n",
       "      <td>0</td>\n",
       "      <td>12.834489</td>\n",
       "      <td>10.035014</td>\n",
       "      <td>1</td>\n",
       "      <td>-2.799475</td>\n",
       "      <td>-4.043705</td>\n",
       "    </tr>\n",
       "    <tr>\n",
       "      <th>1</th>\n",
       "      <td>1</td>\n",
       "      <td>1</td>\n",
       "      <td>1</td>\n",
       "      <td>11.011581</td>\n",
       "      <td>11.316208</td>\n",
       "      <td>1</td>\n",
       "      <td>0.304627</td>\n",
       "      <td>-3.733940</td>\n",
       "    </tr>\n",
       "    <tr>\n",
       "      <th>2</th>\n",
       "      <td>2</td>\n",
       "      <td>2</td>\n",
       "      <td>2</td>\n",
       "      <td>12.606499</td>\n",
       "      <td>14.643771</td>\n",
       "      <td>1</td>\n",
       "      <td>2.037272</td>\n",
       "      <td>-4.385604</td>\n",
       "    </tr>\n",
       "    <tr>\n",
       "      <th>3</th>\n",
       "      <td>3</td>\n",
       "      <td>3</td>\n",
       "      <td>3</td>\n",
       "      <td>10.869074</td>\n",
       "      <td>13.482636</td>\n",
       "      <td>1</td>\n",
       "      <td>2.613562</td>\n",
       "      <td>-4.925275</td>\n",
       "    </tr>\n",
       "    <tr>\n",
       "      <th>4</th>\n",
       "      <td>4</td>\n",
       "      <td>4</td>\n",
       "      <td>4</td>\n",
       "      <td>6.159082</td>\n",
       "      <td>6.337349</td>\n",
       "      <td>1</td>\n",
       "      <td>0.178267</td>\n",
       "      <td>1.429249</td>\n",
       "    </tr>\n",
       "    <tr>\n",
       "      <th>...</th>\n",
       "      <td>...</td>\n",
       "      <td>...</td>\n",
       "      <td>...</td>\n",
       "      <td>...</td>\n",
       "      <td>...</td>\n",
       "      <td>...</td>\n",
       "      <td>...</td>\n",
       "      <td>...</td>\n",
       "    </tr>\n",
       "    <tr>\n",
       "      <th>995</th>\n",
       "      <td>995</td>\n",
       "      <td>995</td>\n",
       "      <td>495</td>\n",
       "      <td>29.806246</td>\n",
       "      <td>31.775410</td>\n",
       "      <td>0</td>\n",
       "      <td>0.000000</td>\n",
       "      <td>1.969164</td>\n",
       "    </tr>\n",
       "    <tr>\n",
       "      <th>996</th>\n",
       "      <td>996</td>\n",
       "      <td>996</td>\n",
       "      <td>496</td>\n",
       "      <td>14.683680</td>\n",
       "      <td>13.065503</td>\n",
       "      <td>0</td>\n",
       "      <td>0.000000</td>\n",
       "      <td>-1.618177</td>\n",
       "    </tr>\n",
       "    <tr>\n",
       "      <th>997</th>\n",
       "      <td>997</td>\n",
       "      <td>997</td>\n",
       "      <td>497</td>\n",
       "      <td>18.065294</td>\n",
       "      <td>13.891190</td>\n",
       "      <td>0</td>\n",
       "      <td>0.000000</td>\n",
       "      <td>-4.174104</td>\n",
       "    </tr>\n",
       "    <tr>\n",
       "      <th>998</th>\n",
       "      <td>998</td>\n",
       "      <td>998</td>\n",
       "      <td>498</td>\n",
       "      <td>14.391185</td>\n",
       "      <td>19.336634</td>\n",
       "      <td>0</td>\n",
       "      <td>0.000000</td>\n",
       "      <td>4.945449</td>\n",
       "    </tr>\n",
       "    <tr>\n",
       "      <th>999</th>\n",
       "      <td>999</td>\n",
       "      <td>999</td>\n",
       "      <td>499</td>\n",
       "      <td>12.440938</td>\n",
       "      <td>8.076007</td>\n",
       "      <td>0</td>\n",
       "      <td>0.000000</td>\n",
       "      <td>-4.364931</td>\n",
       "    </tr>\n",
       "  </tbody>\n",
       "</table>\n",
       "<p>1000 rows × 8 columns</p>\n",
       "</div>"
      ],
      "text/plain": [
       "     Unnamed: 0  Index  Sub   Sphere 1   Sphere 2  DX  S Deformation   \n",
       "0             0      0    0  12.834489  10.035014   1      -2.799475  \\\n",
       "1             1      1    1  11.011581  11.316208   1       0.304627   \n",
       "2             2      2    2  12.606499  14.643771   1       2.037272   \n",
       "3             3      3    3  10.869074  13.482636   1       2.613562   \n",
       "4             4      4    4   6.159082   6.337349   1       0.178267   \n",
       "..          ...    ...  ...        ...        ...  ..            ...   \n",
       "995         995    995  495  29.806246  31.775410   0       0.000000   \n",
       "996         996    996  496  14.683680  13.065503   0       0.000000   \n",
       "997         997    997  497  18.065294  13.891190   0       0.000000   \n",
       "998         998    998  498  14.391185  19.336634   0       0.000000   \n",
       "999         999    999  499  12.440938   8.076007   0       0.000000   \n",
       "\n",
       "     Z Deformation  \n",
       "0        -4.043705  \n",
       "1        -3.733940  \n",
       "2        -4.385604  \n",
       "3        -4.925275  \n",
       "4         1.429249  \n",
       "..             ...  \n",
       "995       1.969164  \n",
       "996      -1.618177  \n",
       "997      -4.174104  \n",
       "998       4.945449  \n",
       "999      -4.364931  \n",
       "\n",
       "[1000 rows x 8 columns]"
      ]
     },
     "execution_count": 4,
     "metadata": {},
     "output_type": "execute_result"
    }
   ],
   "source": [
    "df = pd.read_csv('../../BC-sim/BC-sim-bigdata/synth-data-01/sim_all_def.csv')\n",
    "df"
   ]
  },
  {
   "cell_type": "code",
   "execution_count": 11,
   "id": "a31cf374-3f7a-4088-b33b-7764c560217b",
   "metadata": {},
   "outputs": [],
   "source": [
    "controls = df['DX'].values==0\n",
    "patients = df['DX'].values!=0"
   ]
  },
  {
   "cell_type": "code",
   "execution_count": 12,
   "id": "2d125fdb-10b7-4c94-8723-ba29b4ad82ad",
   "metadata": {},
   "outputs": [],
   "source": [
    "np.savez_compressed(file='../../BC-sim/BC-sim-bigdata/synth-data-01/sim-brain-array.npz',data=data,controls=controls,patients=patients)\n"
   ]
  },
  {
   "cell_type": "code",
   "execution_count": null,
   "id": "6589c22c-aa2e-402c-abe4-069e871b856e",
   "metadata": {},
   "outputs": [],
   "source": []
  }
 ],
 "metadata": {
  "kernelspec": {
   "display_name": "Python 3",
   "language": "python",
   "name": "python3"
  },
  "language_info": {
   "codemirror_mode": {
    "name": "ipython",
    "version": 3
   },
   "file_extension": ".py",
   "mimetype": "text/x-python",
   "name": "python",
   "nbconvert_exporter": "python",
   "pygments_lexer": "ipython3",
   "version": "3.8.8"
  }
 },
 "nbformat": 4,
 "nbformat_minor": 5
}
