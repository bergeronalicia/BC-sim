{
 "cells": [
  {
   "cell_type": "markdown",
   "id": "38f60a0e-84b9-4e5f-b37b-d10d840f3adf",
   "metadata": {},
   "source": [
    "# Creating Sim Brains for CVAE Training"
   ]
  },
  {
   "cell_type": "code",
   "execution_count": 1,
   "id": "0d3a0d8b-3d43-4168-bb26-930bdd3cf1e1",
   "metadata": {},
   "outputs": [
    {
     "data": {
      "text/plain": [
       "'/mmfs1/data/bergerar/BC-sim/Code'"
      ]
     },
     "execution_count": 1,
     "metadata": {},
     "output_type": "execute_result"
    }
   ],
   "source": [
    "pwd"
   ]
  },
  {
   "cell_type": "code",
   "execution_count": 2,
   "id": "dc8a8e7f-785f-4ba6-9fa4-dbcf79c511c4",
   "metadata": {},
   "outputs": [],
   "source": [
    "import ants\n",
    "import numpy as np\n",
    "import pandas as pd\n",
    "import os\n",
    "from tqdm import tqdm"
   ]
  },
  {
   "cell_type": "code",
   "execution_count": 3,
   "id": "7884ef63-e725-4d44-bd83-1cf6825fea20",
   "metadata": {},
   "outputs": [],
   "source": [
    "import warnings\n",
    "warnings.filterwarnings(\"ignore\", category=DeprecationWarning)"
   ]
  },
  {
   "cell_type": "markdown",
   "id": "158c1845-e313-4b00-806d-82fc7af415aa",
   "metadata": {},
   "source": [
    "## Sphere Function"
   ]
  },
  {
   "cell_type": "code",
   "execution_count": 4,
   "id": "bca4fd3a-32aa-4f81-8ee7-e190d5f85e9d",
   "metadata": {},
   "outputs": [],
   "source": [
    "def sphere(shape, radius, position):\n",
    "    \"\"\"Generate an n-dimensional spherical mask.\"\"\"\n",
    "    # assume shape and position have the same length and contain ints\n",
    "    # the units are pixels / voxels (px for short)\n",
    "    # radius is a int or float in px\n",
    "    assert len(position) == len(shape)\n",
    "    n = len(shape)\n",
    "    semisizes = (radius,) * len(shape)\n",
    "\n",
    "    # genereate the grid for the support points\n",
    "    # centered at the position indicated by position\n",
    "    grid = [slice(-x0, dim - x0) for x0, dim in zip(position, shape)]\n",
    "    position = np.ogrid[grid]\n",
    "    # calculate the distance of all points from `position` center\n",
    "    # scaled by the radius\n",
    "    arr = np.zeros(shape, dtype=float)\n",
    "    for x_i, semisize in zip(position, semisizes):\n",
    "        # this can be generalized for exponent != 2\n",
    "        # in which case `(x_i / semisize)`\n",
    "        # would become `np.abs(x_i / semisize)`\n",
    "        arr += (x_i / semisize) ** 2\n",
    "\n",
    "    # the inner part of the sphere will have distance below or equal to 1\n",
    "    return arr <= 1.0"
   ]
  },
  {
   "cell_type": "markdown",
   "id": "2609efde-ceb9-4ec2-97e7-253b4aeafa31",
   "metadata": {},
   "source": [
    "## Brain Resize"
   ]
  },
  {
   "cell_type": "code",
   "execution_count": 5,
   "id": "7e6945e0-e543-4846-8c1c-e6fe47410de0",
   "metadata": {},
   "outputs": [],
   "source": [
    "brain_size = (64,64,64)"
   ]
  },
  {
   "cell_type": "code",
   "execution_count": 6,
   "id": "23674e45-6006-45b5-9b32-c4b15f04883b",
   "metadata": {},
   "outputs": [
    {
     "data": {
      "text/plain": [
       "'/mmfs1/data/bergerar/BC-sim/Code'"
      ]
     },
     "execution_count": 6,
     "metadata": {},
     "output_type": "execute_result"
    }
   ],
   "source": [
    "pwd"
   ]
  },
  {
   "cell_type": "code",
   "execution_count": 7,
   "id": "4a3778db-32a3-4f7f-b0f5-ea0224478c99",
   "metadata": {},
   "outputs": [],
   "source": [
    "temp = ants.image_read('../Misc/Atlas_brain_2mm.nii')\n",
    "temp = ants.resample_image(image=temp,resample_params=brain_size,use_voxels=True,interp_type=1)\n",
    "temp = temp.iMath_normalize()"
   ]
  },
  {
   "cell_type": "code",
   "execution_count": 8,
   "id": "78afa415-e9e8-4ca2-9ce8-69a73976eb75",
   "metadata": {},
   "outputs": [
    {
     "data": {
      "image/png": "[encoded data removed]",
      "text/plain": [
       "<Figure size 900x900 with 3 Axes>"
      ]
     },
     "metadata": {},
     "output_type": "display_data"
    }
   ],
   "source": [
    "temp.plot_ortho(flat=True)"
   ]
  },
  {
   "cell_type": "code",
   "execution_count": 9,
   "id": "26acb07e-9de7-4335-a598-61c23780a269",
   "metadata": {},
   "outputs": [
    {
     "name": "stderr",
     "output_type": "stream",
     "text": [
      "/data/bergerar/anaconda3/lib/python3.8/site-packages/ipykernel/ipkernel.py:287: DeprecationWarning:\n",
      "\n",
      "`should_run_async` will not call `transform_cell` automatically in the future. Please pass the result to `transformed_cell` argument and any exception that happen during thetransform in `preprocessing_exc_tuple` in IPython 7.17 and above.\n",
      "\n"
     ]
    },
    {
     "data": {
      "text/plain": [
       "1.0"
      ]
     },
     "execution_count": 9,
     "metadata": {},
     "output_type": "execute_result"
    }
   ],
   "source": [
    "temp.max()"
   ]
  },
  {
   "cell_type": "code",
   "execution_count": 10,
   "id": "50b8f341-5961-4fb8-9798-459bbd9b2f53",
   "metadata": {},
   "outputs": [
    {
     "name": "stdout",
     "output_type": "stream",
     "text": [
      "(64, 64, 64)\n"
     ]
    }
   ],
   "source": [
    "# make sure image was sized correctly\n",
    "brain_size = temp.shape\n",
    "print(brain_size)"
   ]
  },
  {
   "cell_type": "markdown",
   "id": "ffae1a8f-7f32-46fe-9a99-8214a3f755ca",
   "metadata": {},
   "source": [
    "## Alteration Function"
   ]
  },
  {
   "cell_type": "code",
   "execution_count": 11,
   "id": "97cfd9c4-8cac-445f-adec-56db42a8fcc9",
   "metadata": {},
   "outputs": [],
   "source": [
    "def do_selective_tx(temp,coords = (32,32,50),sz1=10,sz2=2,do_plot=True,tmp_dir='/scratch/bergerar/'):\n",
    "\n",
    "    sphere_small = temp.new_image_like(sphere(shape=brain_size, radius=sz1, position=coords)*1.0)\n",
    "    sphere_big = temp.new_image_like(sphere(shape=brain_size, radius=sz2, position=coords)*1.0)\n",
    "\n",
    "    if do_plot==True:\n",
    "        temp.plot_ortho(sphere_small*3+sphere_big*7,overlay_cmap='flag',xyz=coords,flat=True,overlay_alpha=.5,title='Deformation Targets')\n",
    "\n",
    "    mytx = ants.registration(fixed=sphere_big, moving=sphere_small,mask=sphere_big+sphere_small,type_of_transform = 'SyNOnly',outprefix=tmp_dir) # learns a vector field from small to big sphere\n",
    "    #warpedBrain = ants.apply_transforms(fixed=temp, moving=temp,transformlist=mytx['fwdtransforms'][0],interpolator='bSpline') # applies the transformation\n",
    "    warpedBrain = ants.apply_transforms(fixed=temp, moving=temp,transformlist=mytx['fwdtransforms'][0])\n",
    "    #warpedBrain = ants.apply_transforms(fixed=temp, moving=temp,transformlist=mytx['fwdtransforms'][0],interpolator='nearestNeighbor')\n",
    "    #print(mytx['fwdtransforms'][0])\n",
    "    #warpedBrain.plot_ortho(flat=True,xyz=coords)\n",
    "\n",
    "    #mytx['warpedmovout'].plot_ortho(flat=True,xyz=coords)\n",
    "    if do_plot==True:\n",
    "        temp.plot_ortho_double(warpedBrain,xyz=coords,title='Before and After',title_dy=.22)\n",
    "        (warpedBrain-temp).plot_ortho(flat=True,cmap='bwr',xyz=coords,title='Difference Map')\n",
    "        \n",
    "    #temp.plot_ortho((temp-warpedBrain)>np.sort((temp-warpedBrain).numpy().flatten())[-250],flat=True,overlay_alpha=.5,overlay_cmap='hot',xyz=coords)\n",
    "    #temp.plot_ortho(warpedBrain-temp,flat=True,overlay_alpha=.5,overlay_cmap='bwr',xyz=coords)\n",
    "    \n",
    "    J = ants.create_jacobian_determinant_image(domain_image=warpedBrain,tx=mytx['fwdtransforms'][0])\n",
    "    J = J-1\n",
    "    #J[abs(J.numpy())<.25]=0\n",
    "    if do_plot==True:\n",
    "        warpedBrain.plot_ortho(J,flat=True,overlay_alpha=.5,xyz=coords,title='Jacobian Map')\n",
    "    \n",
    "    return warpedBrain"
   ]
  },
  {
   "cell_type": "code",
   "execution_count": 19,
   "id": "f5f421dd-05d7-4bdb-87d9-40587fdec4de",
   "metadata": {},
   "outputs": [],
   "source": [
    "coords = (32,32,50)\n",
    "sz1 = 5\n",
    "sz2 = 10\n",
    "sphere_small = temp.new_image_like(sphere(shape=brain_size, radius=sz1, position=coords)*1.0)\n",
    "sphere_big = temp.new_image_like(sphere(shape=brain_size, radius=sz2, position=coords)*1.0)\n",
    "\n",
    "mytx = ants.registration(fixed=sphere_big, moving=sphere_small,mask=sphere_big+sphere_small,type_of_transform = 'SyNOnly',outprefix='/scratch/bergerar/') # learns a vector field from small to big sphere\n",
    "\n",
    "\n"
   ]
  },
  {
   "cell_type": "code",
   "execution_count": 20,
   "id": "96ceb422-80ec-4b75-bf01-c08140833119",
   "metadata": {},
   "outputs": [
    {
     "data": {
      "text/plain": [
       "{'warpedmovout': ANTsImage (RPI)\n",
       " \t Pixel Type : float (float32)\n",
       " \t Components : 1\n",
       " \t Dimensions : (64, 64, 64)\n",
       " \t Spacing    : (2.8571, 3.4286, 2.8571)\n",
       " \t Origin     : (-90.0, 126.0, -72.0)\n",
       " \t Direction  : [ 1.  0.  0.  0. -1.  0.  0.  0.  1.],\n",
       " 'warpedfixout': ANTsImage (RPI)\n",
       " \t Pixel Type : float (float32)\n",
       " \t Components : 1\n",
       " \t Dimensions : (64, 64, 64)\n",
       " \t Spacing    : (2.8571, 3.4286, 2.8571)\n",
       " \t Origin     : (-90.0, 126.0, -72.0)\n",
       " \t Direction  : [ 1.  0.  0.  0. -1.  0.  0.  0.  1.],\n",
       " 'fwdtransforms': ['/scratch/bergerar/1Warp.nii.gz',\n",
       "  '/scratch/bergerar/0GenericAffine.mat'],\n",
       " 'invtransforms': ['/scratch/bergerar/0GenericAffine.mat',\n",
       "  '/scratch/bergerar/1InverseWarp.nii.gz']}"
      ]
     },
     "execution_count": 20,
     "metadata": {},
     "output_type": "execute_result"
    }
   ],
   "source": [
    "mytx"
   ]
  },
  {
   "cell_type": "code",
   "execution_count": 18,
   "id": "b1bbf5bb-cd5d-4835-8d7f-893e7a70e5a3",
   "metadata": {},
   "outputs": [
    {
     "data": {
      "text/plain": [
       "\u001b[0;31mSignature:\u001b[0m\n",
       "\u001b[0mants\u001b[0m\u001b[0;34m.\u001b[0m\u001b[0mregistration\u001b[0m\u001b[0;34m(\u001b[0m\u001b[0;34m\u001b[0m\n",
       "\u001b[0;34m\u001b[0m    \u001b[0mfixed\u001b[0m\u001b[0;34m,\u001b[0m\u001b[0;34m\u001b[0m\n",
       "\u001b[0;34m\u001b[0m    \u001b[0mmoving\u001b[0m\u001b[0;34m,\u001b[0m\u001b[0;34m\u001b[0m\n",
       "\u001b[0;34m\u001b[0m    \u001b[0mtype_of_transform\u001b[0m\u001b[0;34m=\u001b[0m\u001b[0;34m'SyN'\u001b[0m\u001b[0;34m,\u001b[0m\u001b[0;34m\u001b[0m\n",
       "\u001b[0;34m\u001b[0m    \u001b[0minitial_transform\u001b[0m\u001b[0;34m=\u001b[0m\u001b[0;32mNone\u001b[0m\u001b[0;34m,\u001b[0m\u001b[0;34m\u001b[0m\n",
       "\u001b[0;34m\u001b[0m    \u001b[0moutprefix\u001b[0m\u001b[0;34m=\u001b[0m\u001b[0;34m''\u001b[0m\u001b[0;34m,\u001b[0m\u001b[0;34m\u001b[0m\n",
       "\u001b[0;34m\u001b[0m    \u001b[0mmask\u001b[0m\u001b[0;34m=\u001b[0m\u001b[0;32mNone\u001b[0m\u001b[0;34m,\u001b[0m\u001b[0;34m\u001b[0m\n",
       "\u001b[0;34m\u001b[0m    \u001b[0mgrad_step\u001b[0m\u001b[0;34m=\u001b[0m\u001b[0;36m0.2\u001b[0m\u001b[0;34m,\u001b[0m\u001b[0;34m\u001b[0m\n",
       "\u001b[0;34m\u001b[0m    \u001b[0mflow_sigma\u001b[0m\u001b[0;34m=\u001b[0m\u001b[0;36m3\u001b[0m\u001b[0;34m,\u001b[0m\u001b[0;34m\u001b[0m\n",
       "\u001b[0;34m\u001b[0m    \u001b[0mtotal_sigma\u001b[0m\u001b[0;34m=\u001b[0m\u001b[0;36m0\u001b[0m\u001b[0;34m,\u001b[0m\u001b[0;34m\u001b[0m\n",
       "\u001b[0;34m\u001b[0m    \u001b[0maff_metric\u001b[0m\u001b[0;34m=\u001b[0m\u001b[0;34m'mattes'\u001b[0m\u001b[0;34m,\u001b[0m\u001b[0;34m\u001b[0m\n",
       "\u001b[0;34m\u001b[0m    \u001b[0maff_sampling\u001b[0m\u001b[0;34m=\u001b[0m\u001b[0;36m32\u001b[0m\u001b[0;34m,\u001b[0m\u001b[0;34m\u001b[0m\n",
       "\u001b[0;34m\u001b[0m    \u001b[0maff_random_sampling_rate\u001b[0m\u001b[0;34m=\u001b[0m\u001b[0;36m0.2\u001b[0m\u001b[0;34m,\u001b[0m\u001b[0;34m\u001b[0m\n",
       "\u001b[0;34m\u001b[0m    \u001b[0msyn_metric\u001b[0m\u001b[0;34m=\u001b[0m\u001b[0;34m'mattes'\u001b[0m\u001b[0;34m,\u001b[0m\u001b[0;34m\u001b[0m\n",
       "\u001b[0;34m\u001b[0m    \u001b[0msyn_sampling\u001b[0m\u001b[0;34m=\u001b[0m\u001b[0;36m32\u001b[0m\u001b[0;34m,\u001b[0m\u001b[0;34m\u001b[0m\n",
       "\u001b[0;34m\u001b[0m    \u001b[0mreg_iterations\u001b[0m\u001b[0;34m=\u001b[0m\u001b[0;34m(\u001b[0m\u001b[0;36m40\u001b[0m\u001b[0;34m,\u001b[0m \u001b[0;36m20\u001b[0m\u001b[0;34m,\u001b[0m \u001b[0;36m0\u001b[0m\u001b[0;34m)\u001b[0m\u001b[0;34m,\u001b[0m\u001b[0;34m\u001b[0m\n",
       "\u001b[0;34m\u001b[0m    \u001b[0maff_iterations\u001b[0m\u001b[0;34m=\u001b[0m\u001b[0;34m(\u001b[0m\u001b[0;36m2100\u001b[0m\u001b[0;34m,\u001b[0m \u001b[0;36m1200\u001b[0m\u001b[0;34m,\u001b[0m \u001b[0;36m1200\u001b[0m\u001b[0;34m,\u001b[0m \u001b[0;36m10\u001b[0m\u001b[0;34m)\u001b[0m\u001b[0;34m,\u001b[0m\u001b[0;34m\u001b[0m\n",
       "\u001b[0;34m\u001b[0m    \u001b[0maff_shrink_factors\u001b[0m\u001b[0;34m=\u001b[0m\u001b[0;34m(\u001b[0m\u001b[0;36m6\u001b[0m\u001b[0;34m,\u001b[0m \u001b[0;36m4\u001b[0m\u001b[0;34m,\u001b[0m \u001b[0;36m2\u001b[0m\u001b[0;34m,\u001b[0m \u001b[0;36m1\u001b[0m\u001b[0;34m)\u001b[0m\u001b[0;34m,\u001b[0m\u001b[0;34m\u001b[0m\n",
       "\u001b[0;34m\u001b[0m    \u001b[0maff_smoothing_sigmas\u001b[0m\u001b[0;34m=\u001b[0m\u001b[0;34m(\u001b[0m\u001b[0;36m3\u001b[0m\u001b[0;34m,\u001b[0m \u001b[0;36m2\u001b[0m\u001b[0;34m,\u001b[0m \u001b[0;36m1\u001b[0m\u001b[0;34m,\u001b[0m \u001b[0;36m0\u001b[0m\u001b[0;34m)\u001b[0m\u001b[0;34m,\u001b[0m\u001b[0;34m\u001b[0m\n",
       "\u001b[0;34m\u001b[0m    \u001b[0mwrite_composite_transform\u001b[0m\u001b[0;34m=\u001b[0m\u001b[0;32mFalse\u001b[0m\u001b[0;34m,\u001b[0m\u001b[0;34m\u001b[0m\n",
       "\u001b[0;34m\u001b[0m    \u001b[0mrandom_seed\u001b[0m\u001b[0;34m=\u001b[0m\u001b[0;32mNone\u001b[0m\u001b[0;34m,\u001b[0m\u001b[0;34m\u001b[0m\n",
       "\u001b[0;34m\u001b[0m    \u001b[0mverbose\u001b[0m\u001b[0;34m=\u001b[0m\u001b[0;32mFalse\u001b[0m\u001b[0;34m,\u001b[0m\u001b[0;34m\u001b[0m\n",
       "\u001b[0;34m\u001b[0m    \u001b[0mmultivariate_extras\u001b[0m\u001b[0;34m=\u001b[0m\u001b[0;32mNone\u001b[0m\u001b[0;34m,\u001b[0m\u001b[0;34m\u001b[0m\n",
       "\u001b[0;34m\u001b[0m    \u001b[0;34m**\u001b[0m\u001b[0mkwargs\u001b[0m\u001b[0;34m,\u001b[0m\u001b[0;34m\u001b[0m\n",
       "\u001b[0;34m\u001b[0m\u001b[0;34m)\u001b[0m\u001b[0;34m\u001b[0m\u001b[0;34m\u001b[0m\u001b[0m\n",
       "\u001b[0;31mDocstring:\u001b[0m\n",
       "Register a pair of images either through the full or simplified\n",
       "interface to the ANTs registration method.\n",
       "\n",
       "ANTsR function: `antsRegistration`\n",
       "\n",
       "Arguments\n",
       "---------\n",
       "fixed : ANTsImage\n",
       "    fixed image to which we register the moving image.\n",
       "\n",
       "moving : ANTsImage\n",
       "    moving image to be mapped to fixed space.\n",
       "\n",
       "type_of_transform : string\n",
       "    A linear or non-linear registration type. Mutual information metric by default.\n",
       "    See Notes below for more.\n",
       "\n",
       "initial_transform : list of strings (optional)\n",
       "    transforms to prepend\n",
       "\n",
       "outprefix : string\n",
       "    output will be named with this prefix.\n",
       "\n",
       "mask : ANTsImage (optional)\n",
       "    mask the registration.\n",
       "\n",
       "grad_step : scalar\n",
       "    gradient step size (not for all tx)\n",
       "\n",
       "flow_sigma : scalar\n",
       "    smoothing for update field\n",
       "\n",
       "total_sigma : scalar\n",
       "    smoothing for total field\n",
       "\n",
       "aff_metric : string\n",
       "    the metric for the affine part (GC, mattes, meansquares)\n",
       "\n",
       "aff_sampling : scalar\n",
       "    the nbins or radius parameter for the syn metric\n",
       "\n",
       "aff_random_sampling_rate : scalar\n",
       "    the fraction of points used to estimate the metric. this can impact\n",
       "    speed but also reproducibility and/or accuracy.\n",
       "\n",
       "syn_metric : string\n",
       "    the metric for the syn part (CC, mattes, meansquares, demons)\n",
       "\n",
       "syn_sampling : scalar\n",
       "    the nbins or radius parameter for the syn metric\n",
       "\n",
       "reg_iterations : list/tuple of integers\n",
       "    vector of iterations for syn. we will set the smoothing and multi-resolution parameters based on the length of this vector.\n",
       "\n",
       "aff_iterations : list/tuple of integers\n",
       "    vector of iterations for low-dimensional (translation, rigid, affine) registration.\n",
       "\n",
       "aff_shrink_factors : list/tuple of integers\n",
       "    vector of multi-resolution shrink factors for low-dimensional (translation, rigid, affine) registration.\n",
       "\n",
       "aff_smoothing_sigmas : list/tuple of integers\n",
       "    vector of multi-resolution smoothing factors for low-dimensional (translation, rigid, affine) registration.\n",
       "\n",
       "random_seed : integer\n",
       "    random seed to improve reproducibility. note that the number of ITK_GLOBAL_DEFAULT_NUMBER_OF_THREADS should be 1 if you want perfect reproducibility.\n",
       "\n",
       "write_composite_transform : boolean\n",
       "    Boolean specifying whether or not the composite transform (and its inverse, if it exists) should be written to an hdf5 composite file. This is false by default so that only the transform for each stage is written to file.\n",
       "\n",
       "verbose : boolean\n",
       "    request verbose output (useful for debugging)\n",
       "\n",
       "multivariate_extras : additional metrics for multi-metric registration\n",
       "    list of additional images and metrics which will\n",
       "    trigger the use of multiple metrics in the registration\n",
       "    process in the deformable stage. Each multivariate metric needs 5\n",
       "    entries: name of metric, fixed, moving, weight,\n",
       "    samplingParam. the list of lists should be of the form ( (\n",
       "    \"nameOfMetric2\", img, img, weight, metricParam ) ). Another\n",
       "    example would be  ( ( \"MeanSquares\", f2, m2, 0.5, 0\n",
       "      ), ( \"CC\", f2, m2, 0.5, 2 ) ) .  This is only compatible\n",
       "    with the SyNOnly transformation.\n",
       "\n",
       "\n",
       "kwargs : keyword args\n",
       "    extra arguments\n",
       "\n",
       "Returns\n",
       "-------\n",
       "dict containing follow key/value pairs:\n",
       "    `warpedmovout`: Moving image warped to space of fixed image.\n",
       "    `warpedfixout`: Fixed image warped to space of moving image.\n",
       "    `fwdtransforms`: Transforms to move from moving to fixed image.\n",
       "    `invtransforms`: Transforms to move from fixed to moving image.\n",
       "\n",
       "Notes\n",
       "-----\n",
       "type_of_transform can be one of:\n",
       "    - \"Translation\": Translation transformation.\n",
       "    - \"Rigid\": Rigid transformation: Only rotation and translation.\n",
       "    - \"Similarity\": Similarity transformation: scaling, rotation and translation.\n",
       "    - \"QuickRigid\": Rigid transformation: Only rotation and translation.\n",
       "                    May be useful for quick visualization fixes.'\n",
       "    - \"DenseRigid\": Rigid transformation: Only rotation and translation.\n",
       "                    Employs dense sampling during metric estimation.'\n",
       "    - \"BOLDRigid\": Rigid transformation: Parameters typical for BOLD to\n",
       "                    BOLD intrasubject registration'.'\n",
       "    - \"Affine\": Affine transformation: Rigid + scaling.\n",
       "    - \"AffineFast\": Fast version of Affine.\n",
       "    - \"BOLDAffine\": Affine transformation: Parameters typical for BOLD to\n",
       "                    BOLD intrasubject registration'.'\n",
       "    - \"TRSAA\": translation, rigid, similarity, affine (twice). please set\n",
       "                regIterations if using this option. this would be used in\n",
       "                cases where you want a really high quality affine mapping\n",
       "                (perhaps with mask).\n",
       "    - \"Elastic\": Elastic deformation: Affine + deformable.\n",
       "    - \"ElasticSyN\": Symmetric normalization: Affine + deformable\n",
       "                    transformation, with mutual information as optimization\n",
       "                    metric and elastic regularization.\n",
       "    - \"SyN\": Symmetric normalization: Affine + deformable transformation,\n",
       "                with mutual information as optimization metric.\n",
       "    - \"SyNRA\": Symmetric normalization: Rigid + Affine + deformable\n",
       "                transformation, with mutual information as optimization metric.\n",
       "    - \"SyNOnly\": Symmetric normalization: no initial transformation,\n",
       "                with mutual information as optimization metric. Assumes\n",
       "                images are aligned by an inital transformation. Can be\n",
       "                useful if you want to run an unmasked affine followed by\n",
       "                masked deformable registration.\n",
       "    - \"SyNCC\": SyN, but with cross-correlation as the metric.\n",
       "    - \"SyNabp\": SyN optimized for abpBrainExtraction.\n",
       "    - \"SyNBold\": SyN, but optimized for registrations between BOLD and T1 images.\n",
       "    - \"SyNBoldAff\": SyN, but optimized for registrations between BOLD\n",
       "                    and T1 images, with additional affine step.\n",
       "    - \"SyNAggro\": SyN, but with more aggressive registration\n",
       "                    (fine-scale matching and more deformation).\n",
       "                    Takes more time than SyN.\n",
       "    - \"TV[n]\": time-varying diffeomorphism with where 'n' indicates number of\n",
       "        time points in velocity field discretization.  The initial transform\n",
       "        should be computed, if needed, in a separate call to ants.registration.\n",
       "    - \"TVMSQ\": time-varying diffeomorphism with mean square metric\n",
       "    - \"TVMSQC\": time-varying diffeomorphism with mean square metric for very large deformation\n",
       "    - \"antsRegistrationSyN[x]\": recreation of the antsRegistrationSyN.sh script in ANTs\n",
       "                                where 'x' is one of the transforms available (e.g., 't', 'b', 's')\n",
       "    - \"antsRegistrationSyNQuick[x]\": recreation of the antsRegistrationSyNQuick.sh script in ANTs\n",
       "                                where 'x' is one of the transforms available (e.g., 't', 'b', 's')\n",
       "    - \"antsRegistrationSyNRepro[x]\": reproducible registration.  x options as above.\n",
       "    - \"antsRegistrationSyNQuickRepro[x]\": quick reproducible registration.  x options as above.\n",
       "\n",
       "Example\n",
       "-------\n",
       ">>> import ants\n",
       ">>> fi = ants.image_read(ants.get_ants_data('r16'))\n",
       ">>> mi = ants.image_read(ants.get_ants_data('r64'))\n",
       ">>> fi = ants.resample_image(fi, (60,60), 1, 0)\n",
       ">>> mi = ants.resample_image(mi, (60,60), 1, 0)\n",
       ">>> mytx = ants.registration(fixed=fi, moving=mi, type_of_transform = 'SyN' )\n",
       "\u001b[0;31mFile:\u001b[0m      ~/anaconda3/lib/python3.8/site-packages/ants/registration/interface.py\n",
       "\u001b[0;31mType:\u001b[0m      function\n"
      ]
     },
     "metadata": {},
     "output_type": "display_data"
    }
   ],
   "source": [
    "ants.registration?"
   ]
  },
  {
   "cell_type": "code",
   "execution_count": null,
   "id": "3a4e6458-e6f0-464b-96e5-1a057d7b152f",
   "metadata": {},
   "outputs": [],
   "source": []
  },
  {
   "cell_type": "code",
   "execution_count": 13,
   "id": "24d2e886-d031-438d-9495-8b6ab534cf1d",
   "metadata": {},
   "outputs": [],
   "source": [
    "tx_log_td = []\n",
    "tx_log_adhd = []\n",
    "s = 0\n",
    "\n",
    "sub = f'sub-{s:04d}'\n",
    "\n",
    "td_sphere1 = np.random.uniform(low=10.0,high=35,size=1)\n",
    "td_sphere_diff = np.random.uniform(low=-5.0,high=5.0,size=1)\n",
    "td_sphere2 = td_sphere1+td_sphere_diff\n",
    "tx_log_td.append( (td_sphere1,td_sphere2) )\n",
    "#print((td_sphere1,td_sphere2))\n",
    "\n",
    "TD_brain = do_selective_tx(temp,coords = (32,32,32),sz1=td_sphere1,sz2=td_sphere2,do_plot=False)\n",
    "#TD_brain.plot_ortho(flat=True)\n",
    "\n",
    "adhd_sphere1 = np.random.uniform(low=5.0,high=15,size=1)\n",
    "adhd_sphere_diff = np.random.uniform(low=-3.0,high=3.0,size=1)\n",
    "adhd_sphere2 = adhd_sphere1+adhd_sphere_diff\n",
    "tx_log_adhd.append( (adhd_sphere1,adhd_sphere2) )\n",
    "#print((adhd_sphere1,adhd_sphere2))\n",
    "\n",
    "ADHD_brain = do_selective_tx(TD_brain,coords = (32,48,25),sz1=adhd_sphere1,sz2=adhd_sphere2,do_plot=False)\n",
    "#ADHD_brain.plot_ortho(flat=True)\n",
    "\n",
    "TD_brain.to_filename(os.path.join('../synth-data-01','TD-'+sub+'.nii.gz'))\n",
    "ADHD_brain.to_filename(os.path.join('../synth-data-01','ADHD-'+sub+'.nii.gz'))"
   ]
  },
  {
   "cell_type": "code",
   "execution_count": null,
   "id": "68bfff00-2591-46cf-834e-ce47af586f35",
   "metadata": {},
   "outputs": [],
   "source": []
  },
  {
   "cell_type": "code",
   "execution_count": 134,
   "id": "718428e9-f9b8-4bea-8d02-11b78afc499a",
   "metadata": {},
   "outputs": [
    {
     "name": "stderr",
     "output_type": "stream",
     "text": [
      "  0%|          | 0/500 [00:02<?, ?it/s]\n"
     ]
    },
    {
     "ename": "IndexError",
     "evalue": "list index out of range",
     "output_type": "error",
     "traceback": [
      "\u001b[0;31m---------------------------------------------------------------------------\u001b[0m",
      "\u001b[0;31mIndexError\u001b[0m                                Traceback (most recent call last)",
      "Input \u001b[0;32mIn [134]\u001b[0m, in \u001b[0;36m<cell line: 3>\u001b[0;34m()\u001b[0m\n\u001b[1;32m      9\u001b[0m tx_log_td\u001b[38;5;241m.\u001b[39mappend( (td_sphere1,td_sphere2) )\n\u001b[1;32m     10\u001b[0m \u001b[38;5;66;03m#print((td_sphere1,td_sphere2))\u001b[39;00m\n\u001b[0;32m---> 12\u001b[0m TD_brain \u001b[38;5;241m=\u001b[39m \u001b[43mdo_selective_tx\u001b[49m\u001b[43m(\u001b[49m\u001b[43mtemp\u001b[49m\u001b[43m,\u001b[49m\u001b[43mcoords\u001b[49m\u001b[43m \u001b[49m\u001b[38;5;241;43m=\u001b[39;49m\u001b[43m \u001b[49m\u001b[43m(\u001b[49m\u001b[38;5;241;43m32\u001b[39;49m\u001b[43m,\u001b[49m\u001b[38;5;241;43m32\u001b[39;49m\u001b[43m,\u001b[49m\u001b[38;5;241;43m32\u001b[39;49m\u001b[43m)\u001b[49m\u001b[43m,\u001b[49m\u001b[43msz1\u001b[49m\u001b[38;5;241;43m=\u001b[39;49m\u001b[43mtd_sphere1\u001b[49m\u001b[43m,\u001b[49m\u001b[43msz2\u001b[49m\u001b[38;5;241;43m=\u001b[39;49m\u001b[43mtd_sphere2\u001b[49m\u001b[43m,\u001b[49m\u001b[43mdo_plot\u001b[49m\u001b[38;5;241;43m=\u001b[39;49m\u001b[38;5;28;43;01mFalse\u001b[39;49;00m\u001b[43m)\u001b[49m\n\u001b[1;32m     13\u001b[0m \u001b[38;5;66;03m#TD_brain.plot_ortho(flat=True)\u001b[39;00m\n\u001b[1;32m     15\u001b[0m adhd_sphere1 \u001b[38;5;241m=\u001b[39m np\u001b[38;5;241m.\u001b[39mrandom\u001b[38;5;241m.\u001b[39muniform(low\u001b[38;5;241m=\u001b[39m\u001b[38;5;241m5.0\u001b[39m,high\u001b[38;5;241m=\u001b[39m\u001b[38;5;241m15\u001b[39m,size\u001b[38;5;241m=\u001b[39m\u001b[38;5;241m1\u001b[39m)\n",
      "Input \u001b[0;32mIn [14]\u001b[0m, in \u001b[0;36mdo_selective_tx\u001b[0;34m(temp, coords, sz1, sz2, do_plot)\u001b[0m\n\u001b[1;32m      9\u001b[0m mytx \u001b[38;5;241m=\u001b[39m ants\u001b[38;5;241m.\u001b[39mregistration(fixed\u001b[38;5;241m=\u001b[39msphere_big, moving\u001b[38;5;241m=\u001b[39msphere_small,mask\u001b[38;5;241m=\u001b[39msphere_big\u001b[38;5;241m+\u001b[39msphere_small,type_of_transform \u001b[38;5;241m=\u001b[39m \u001b[38;5;124m'\u001b[39m\u001b[38;5;124mSyNOnly\u001b[39m\u001b[38;5;124m'\u001b[39m ) \u001b[38;5;66;03m# learns a vector field from small to big sphere\u001b[39;00m\n\u001b[1;32m     10\u001b[0m \u001b[38;5;66;03m#warpedBrain = ants.apply_transforms(fixed=temp, moving=temp,transformlist=mytx['fwdtransforms'][0],interpolator='bSpline') # applies the transformation\u001b[39;00m\n\u001b[0;32m---> 11\u001b[0m warpedBrain \u001b[38;5;241m=\u001b[39m ants\u001b[38;5;241m.\u001b[39mapply_transforms(fixed\u001b[38;5;241m=\u001b[39mtemp, moving\u001b[38;5;241m=\u001b[39mtemp,transformlist\u001b[38;5;241m=\u001b[39m\u001b[43mmytx\u001b[49m\u001b[43m[\u001b[49m\u001b[38;5;124;43m'\u001b[39;49m\u001b[38;5;124;43mfwdtransforms\u001b[39;49m\u001b[38;5;124;43m'\u001b[39;49m\u001b[43m]\u001b[49m\u001b[43m[\u001b[49m\u001b[38;5;241;43m0\u001b[39;49m\u001b[43m]\u001b[49m)\n\u001b[1;32m     12\u001b[0m \u001b[38;5;66;03m#warpedBrain = ants.apply_transforms(fixed=temp, moving=temp,transformlist=mytx['fwdtransforms'][0],interpolator='nearestNeighbor')\u001b[39;00m\n\u001b[1;32m     13\u001b[0m \u001b[38;5;66;03m#print(mytx['fwdtransforms'][0])\u001b[39;00m\n\u001b[1;32m     14\u001b[0m \u001b[38;5;66;03m#warpedBrain.plot_ortho(flat=True,xyz=coords)\u001b[39;00m\n\u001b[1;32m     15\u001b[0m \n\u001b[1;32m     16\u001b[0m \u001b[38;5;66;03m#mytx['warpedmovout'].plot_ortho(flat=True,xyz=coords)\u001b[39;00m\n\u001b[1;32m     17\u001b[0m \u001b[38;5;28;01mif\u001b[39;00m do_plot\u001b[38;5;241m==\u001b[39m\u001b[38;5;28;01mTrue\u001b[39;00m:\n",
      "\u001b[0;31mIndexError\u001b[0m: list index out of range"
     ]
    }
   ],
   "source": [
    "tx_log_td = []\n",
    "tx_log_adhd = []\n",
    "for s in tqdm( range(500) ):\n",
    "    sub = f'sub-{s:04d}'\n",
    "\n",
    "    td_sphere1 = np.random.uniform(low=10.0,high=35,size=1)\n",
    "    td_sphere_diff = np.random.uniform(low=-5.0,high=5.0,size=1)\n",
    "    td_sphere2 = td_sphere1+td_sphere_diff\n",
    "    tx_log_td.append( (td_sphere1,td_sphere2) )\n",
    "    #print((td_sphere1,td_sphere2))\n",
    "\n",
    "    TD_brain = do_selective_tx(temp,coords = (32,32,32),sz1=td_sphere1,sz2=td_sphere2,do_plot=False)\n",
    "    #TD_brain.plot_ortho(flat=True)\n",
    "\n",
    "    adhd_sphere1 = np.random.uniform(low=5.0,high=15,size=1)\n",
    "    adhd_sphere_diff = np.random.uniform(low=-3.0,high=3.0,size=1)\n",
    "    adhd_sphere2 = adhd_sphere1+adhd_sphere_diff\n",
    "    tx_log_adhd.append( (adhd_sphere1,adhd_sphere2) )\n",
    "    #print((adhd_sphere1,adhd_sphere2))\n",
    "\n",
    "    ADHD_brain = do_selective_tx(TD_brain,coords = (32,48,25),sz1=adhd_sphere1,sz2=adhd_sphere2,do_plot=False)\n",
    "    #ADHD_brain.plot_ortho(flat=True)\n",
    "\n",
    "    TD_brain.to_filename(os.path.join('../synth-data-01','TD-'+sub+'.nii.gz'))\n",
    "    ADHD_brain.to_filename(os.path.join('../synth-data-01','ADHD-'+sub+'.nii.gz'))\n",
    "    \n",
    "np.save(file='../synth-data-01/tx_log_adhd1.npy',arr=np.array(tx_log_adhd)[:,:,0])\n",
    "np.save(file='../synth-data-01/tx_log_td1.npy',arr=np.array(tx_log_td)[:,:,0])"
   ]
  },
  {
   "cell_type": "code",
   "execution_count": null,
   "id": "dbd4d672-1e47-4d79-990c-3c65c675d7b4",
   "metadata": {},
   "outputs": [],
   "source": []
  },
  {
   "cell_type": "code",
   "execution_count": null,
   "id": "a9700e24-049c-4909-aeb0-b5eceec588b2",
   "metadata": {},
   "outputs": [],
   "source": []
  },
  {
   "cell_type": "code",
   "execution_count": null,
   "id": "af9341ff-247c-494c-8b2e-f5678404ecfe",
   "metadata": {},
   "outputs": [],
   "source": []
  },
  {
   "cell_type": "code",
   "execution_count": 59,
   "id": "0e67e8ea-c0a5-4a98-85e7-0b65e1b66880",
   "metadata": {},
   "outputs": [],
   "source": []
  },
  {
   "cell_type": "code",
   "execution_count": null,
   "id": "c735246d-9f5e-4220-a495-7adf6fd31740",
   "metadata": {},
   "outputs": [],
   "source": []
  },
  {
   "cell_type": "code",
   "execution_count": null,
   "id": "3b1888b7-be62-4fea-be64-c131c4027a4b",
   "metadata": {},
   "outputs": [],
   "source": []
  },
  {
   "cell_type": "code",
   "execution_count": null,
   "id": "4e19d55c-db42-43d7-a568-5731537abcaa",
   "metadata": {},
   "outputs": [],
   "source": []
  },
  {
   "cell_type": "code",
   "execution_count": null,
   "id": "4a73e5c9-6ebf-416c-ace9-a2a3555fd713",
   "metadata": {},
   "outputs": [],
   "source": []
  },
  {
   "cell_type": "code",
   "execution_count": null,
   "id": "d5938383-8c3d-4771-b497-96be54182c2c",
   "metadata": {},
   "outputs": [],
   "source": []
  }
 ],
 "metadata": {
  "kernelspec": {
   "display_name": "Python 3",
   "language": "python",
   "name": "python3"
  },
  "language_info": {
   "codemirror_mode": {
    "name": "ipython",
    "version": 3
   },
   "file_extension": ".py",
   "mimetype": "text/x-python",
   "name": "python",
   "nbconvert_exporter": "python",
   "pygments_lexer": "ipython3",
   "version": "3.8.8"
  }
 },
 "nbformat": 4,
 "nbformat_minor": 5
}
